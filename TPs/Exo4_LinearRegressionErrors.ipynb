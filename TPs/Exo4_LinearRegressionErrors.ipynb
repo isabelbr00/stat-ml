{
 "cells": [
  {
   "cell_type": "code",
   "execution_count": 5,
   "metadata": {},
   "outputs": [],
   "source": [
    "import numpy as np\n",
    "import pandas as pd\n",
    "import matplotlib.pyplot as plt\n",
    "\n",
    "from sklearn.linear_model import LinearRegression"
   ]
  },
  {
   "cell_type": "markdown",
   "metadata": {},
   "source": [
    "\n",
    "## Exercice 4 : impact et detection d'outliers\n",
    "\n"
   ]
  },
  {
   "cell_type": "code",
   "execution_count": 2,
   "metadata": {},
   "outputs": [
    {
     "name": "stdout",
     "output_type": "stream",
     "text": [
      "b_0=7.25177659880919 et b_1=5.0754256347491395\n"
     ]
    },
    {
     "data": {
      "image/png": "[encoded data removed]",
      "text/plain": [
       "<Figure size 640x480 with 1 Axes>"
      ]
     },
     "metadata": {},
     "output_type": "display_data"
    }
   ],
   "source": [
    "#generation de donnees test\n",
    "def generate_data(n_samples, outlier=False, b_1=4.):\n",
    "    x = np.arange(n_samples)\n",
    "    y = 10. + b_1*x + np.random.randn(n_samples)*3.\n",
    "    if outlier:\n",
    "        y[-1] += 20\n",
    "    return x, y\n",
    "\n",
    "def s2(y_true, y_pred):\n",
    "    n = len(y_true)\n",
    "    SSE = np.sum((y_true - y_pred)**2)\n",
    "    return SSE / (n-1)\n",
    "\n",
    "\n",
    "x, y = generate_data(n_samples=10, outlier=True)\n",
    "# instanciation de sklearn.linear_model.LinearRegression\n",
    "lr = LinearRegression()\n",
    "lr.fit(x[:, np.newaxis], y)  # np.newaxis est utilise car x doit etre une matrice 2d avec 'LinearRegression'\n",
    "\n",
    "# representation du resultat\n",
    "\n",
    "print('b_0='+str(lr.intercept_)+' et b_1='+str(lr.coef_[0]))\n",
    "\n",
    "fig = plt.figure()\n",
    "plt.plot(x, y, 'r.')\n",
    "plt.plot(x, lr.predict(x[:, np.newaxis]), 'b-')\n",
    "plt.legend(('Data', 'Linear Fit'), loc='lower right')\n",
    "plt.title('Linear regression')\n",
    "plt.show()"
   ]
  },
  {
   "cell_type": "markdown",
   "metadata": {},
   "source": [
    "\n",
    "### <span style=\"color:blue\">QUESTION 4.1 :</span> \n",
    "\n",
    "\n",
    "Remarquons que la ligne 'y[9]=y[9]+20' génere artificiellement une donnée aberrante.\n",
    "\n",
    "Tester l'impact de la donnée aberrante en estimant b_0, b_1 et s^2 sur \n",
    "- 5 jeux de données générés comme dans la cellule précédente et\n",
    "- 5 autres jeux aussi générés suivant cette méthode, mais sans la données aberrant (simplement ne pas executer la ligne y[9]=y[9]+20).\n",
    "\n",
    "On remarque que $\\beta_0 = 10$, $\\beta_1 = 4$ et $\\sigma=3$ dans les données simulees.\n"
   ]
  },
  {
   "cell_type": "markdown",
   "metadata": {},
   "source": [
    "### <span style=\"color:blue\">REPONSE 4.1 :</span> \n",
    "\n"
   ]
  },
  {
   "cell_type": "code",
   "execution_count": 6,
   "metadata": {},
   "outputs": [
    {
     "name": "stdout",
     "output_type": "stream",
     "text": [
      "      condição         b0        b1         s2\n",
      "0  sem outlier  10.881846  3.700782   4.178719\n",
      "1  com outlier   7.528242  4.948390  37.560672\n",
      "2  sem outlier   9.754292  4.281362  15.731972\n",
      "3  com outlier   2.307119  6.138701  22.193544\n",
      "4  sem outlier  10.935854  3.923609   6.369435\n",
      "5  com outlier   5.901471  5.141122  52.244544\n",
      "6  sem outlier   8.697420  3.935642   7.666559\n",
      "7  com outlier   8.731865  5.123218  44.430810\n",
      "8  sem outlier  11.164793  3.866871  11.811144\n",
      "9  com outlier   5.143529  5.252447  62.556072\n",
      "\n",
      "Médias por condição:\n",
      "                    b0        b1         s2\n",
      "condição                                   \n",
      "com outlier   5.922445  5.320776  43.797128\n",
      "sem outlier  10.286841  3.941653   9.151566\n"
     ]
    }
   ],
   "source": [
    "\n",
    "# -----------------------------\n",
    "# Função para estimar b0, b1 e s²\n",
    "# -----------------------------\n",
    "def estimate_params(x, y):\n",
    "    lr = LinearRegression()\n",
    "    lr.fit(x[:, np.newaxis], y)\n",
    "    b0 = lr.intercept_\n",
    "    b1 = lr.coef_[0]\n",
    "    \n",
    "    y_pred = lr.predict(x[:, np.newaxis])\n",
    "    n = len(y)\n",
    "    s2 = np.sum((y - y_pred)**2) / (n - 1)\n",
    "    \n",
    "    return b0, b1, s2\n",
    "\n",
    "# -----------------------------\n",
    "# Experimento: 5 rodadas com e sem outlier\n",
    "# -----------------------------\n",
    "results = {\"condição\": [], \"b0\": [], \"b1\": [], \"s2\": []}\n",
    "\n",
    "for i in range(5):\n",
    "    # sem outlier\n",
    "    x, y = generate_data(n_samples=10, outlier=False, b_1=4.)\n",
    "    b0, b1, s2 = estimate_params(x, y)\n",
    "    results[\"condição\"].append(\"sem outlier\")\n",
    "    results[\"b0\"].append(b0)\n",
    "    results[\"b1\"].append(b1)\n",
    "    results[\"s2\"].append(s2)\n",
    "    \n",
    "    # com outlier\n",
    "    x, y = generate_data(n_samples=10, outlier=True, b_1=4.)\n",
    "    b0, b1, s2 = estimate_params(x, y)\n",
    "    results[\"condição\"].append(\"com outlier\")\n",
    "    results[\"b0\"].append(b0)\n",
    "    results[\"b1\"].append(b1)\n",
    "    results[\"s2\"].append(s2)\n",
    "\n",
    "# Tabela final\n",
    "df = pd.DataFrame(results)\n",
    "print(df)\n",
    "\n",
    "# Médias comparativas\n",
    "print(\"\\nMédias por condição:\")\n",
    "print(df.groupby(\"condição\").mean(numeric_only=True))"
   ]
  },
  {
   "cell_type": "markdown",
   "metadata": {},
   "source": [
    "Sem outlier: o modelo recupera bem os parâmetros verdadeiros.\n",
    "Com outlier: distorce toda a estimativa, por obrigar a reta a se ajustar.\n",
    "\n",
    "Ou seja, os outliers tem enorme impacto em regressão linear com mínimos quadrados (pois o erro está ao quadrado)."
   ]
  },
  {
   "cell_type": "markdown",
   "metadata": {},
   "source": [
    "La variance estimée du bruit est beaucoup plus grande avec une donnée aberrante.\n",
    "La donnée aberrante introiduit un biais dans l'estimation des statistiques b_0 et b_1."
   ]
  },
  {
   "cell_type": "markdown",
   "metadata": {},
   "source": [
    "\n",
    "### <span style=\"color:blue\">QUESTIONS 4.2 :</span> \n",
    "\n",
    "#### <span style=\"color:blue\">QUESTION 4.2.a :</span> \n",
    "Pour chaque variable i, calculez les profils des résidus $e_{(i)j}=y_j - \\hat{y_{(i)j}}$ pour tous les j, où  \\hat{y_{(i)j}} est l'estimation de y_j à partir d'un modele  linéaire appris sans l'observation i.\n",
    "#### <span style=\"color:blue\">QUESTION 4.2.b :</span> \n",
    "En quoi le profil des e_{(i)j} est différent pour i=9 que pour les autres i\n",
    "#### <span style=\"color:blue\">QUESTION 4.2.c :</span> \n",
    "Etendre ces calculs pour définir la distance de Cook de chaque variable i\n",
    "\n",
    "AIDE : pour enlever un élement 'i' de 'x' ou 'y', utiliser x_del_i=np.delete(x,i) et y_del_i=np.delete(y,i) \n"
   ]
  },
  {
   "cell_type": "code",
   "execution_count": 7,
   "metadata": {},
   "outputs": [],
   "source": [
    "x, y = generate_data(n_samples=10, outlier=True)"
   ]
  },
  {
   "cell_type": "markdown",
   "metadata": {},
   "source": [
    "#### <span style=\"color:blue\">REPONSE 4.2.a :</span> \n"
   ]
  },
  {
   "cell_type": "code",
   "execution_count": 15,
   "metadata": {},
   "outputs": [],
   "source": [
    "def profil_residuel(x, y, i):\n",
    "    # e_(i)j = y_j - yhat_(i)j\n",
    "    x = np.asarray(x); y = np.asarray(y)\n",
    "    n = len(x)\n",
    "    errors = np.zeros((n,n))\n",
    "    for i in range(n):\n",
    "        x_del = np.delete(x,i)\n",
    "        y_del = np.delete(y,i)\n",
    "        lr = LinearRegression().fit(x_del[:,None],y_del)\n",
    "        y_hati = lr.predict(x[:,None])\n",
    "        errors[i,:] = y - y_hati\n",
    "    return errors"
   ]
  },
  {
   "cell_type": "code",
   "execution_count": null,
   "metadata": {},
   "outputs": [
    {
     "name": "stdout",
     "output_type": "stream",
     "text": [
      "Perfil removendo i=9 (outlier):\n",
      "[[-3.108  3.428  0.851  0.19  -1.284 -2.435 -5.146  1.314 -5.547  8.63 ]\n",
      " [-0.357  5.765  2.773  1.698 -0.19  -1.755 -4.88   1.166 -6.109  7.654]\n",
      " [-1.579  4.729  1.923  1.034 -0.667 -2.046 -4.984  1.248 -5.841  8.108]\n",
      " [-1.877  4.474  1.711  0.865 -0.794 -2.131 -5.026  1.248 -5.798  8.193]\n",
      " [-2.16   4.212  1.471  0.647 -0.991 -2.306 -5.179  1.117 -5.907  8.106]\n",
      " [-2.213  4.138  1.376  0.531 -1.128 -2.463 -5.358  0.917 -6.128  7.864]\n",
      " [-2.14   4.12   1.267  0.331 -1.419 -2.846 -5.831  0.353 -6.784  7.117]\n",
      " [-2.087  4.323  1.621  0.834 -0.765 -2.042 -4.877  1.457 -5.529  8.522]\n",
      " [-1.329  4.708  1.632  0.473 -1.5   -3.15  -6.359 -0.397 -7.757  5.921]\n",
      " [-3.851  3.196  1.131  0.982  0.02  -0.619 -2.818  4.154 -2.195 12.494]]\n"
     ]
    }
   ],
   "source": [
    "# Exemplo de uso:\n",
    "# x, y = generate_data(n_samples=10, outlier=True, b_1=4.)\n",
    "print(\"Perfil removendo i=9 (outlier):\")\n",
    "print(np.round(profil_residuel(x, y, 9), 3))"
   ]
  },
  {
   "cell_type": "markdown",
   "metadata": {},
   "source": [
    "#### <span style=\"color:blue\">REPONSE 4.2.b :</span> \n",
    "\n",
    "Le profil résiduel de la donnée aberrante est toujours plus grand que les autres, en particulier lorsqu'on ôte la donnée de la base d'apprentissage."
   ]
  },
  {
   "cell_type": "code",
   "execution_count": 18,
   "metadata": {},
   "outputs": [
    {
     "name": "stdout",
     "output_type": "stream",
     "text": [
      "Perfil médio sem outlier (i ≠ 9):\n",
      "[[-3.108  3.428  0.851  0.19  -1.284 -2.435 -5.146  1.314 -5.547  8.63 ]\n",
      " [-0.357  5.765  2.773  1.698 -0.19  -1.755 -4.88   1.166 -6.109  7.654]\n",
      " [-1.579  4.729  1.923  1.034 -0.667 -2.046 -4.984  1.248 -5.841  8.108]\n",
      " [-1.877  4.474  1.711  0.865 -0.794 -2.131 -5.026  1.248 -5.798  8.193]\n",
      " [-2.16   4.212  1.471  0.647 -0.991 -2.306 -5.179  1.117 -5.907  8.106]\n",
      " [-2.213  4.138  1.376  0.531 -1.128 -2.463 -5.358  0.917 -6.128  7.864]\n",
      " [-2.14   4.12   1.267  0.331 -1.419 -2.846 -5.831  0.353 -6.784  7.117]\n",
      " [-2.087  4.323  1.621  0.834 -0.765 -2.042 -4.877  1.457 -5.529  8.522]\n",
      " [-1.329  4.708  1.632  0.473 -1.5   -3.15  -6.359 -0.397 -7.757  5.921]\n",
      " [-3.851  3.196  1.131  0.982  0.02  -0.619 -2.818  4.154 -2.195 12.494]]\n",
      "\n",
      "Perfil ao remover i=9 (outlier):\n",
      "[[-3.108  3.428  0.851  0.19  -1.284 -2.435 -5.146  1.314 -5.547  8.63 ]\n",
      " [-0.357  5.765  2.773  1.698 -0.19  -1.755 -4.88   1.166 -6.109  7.654]\n",
      " [-1.579  4.729  1.923  1.034 -0.667 -2.046 -4.984  1.248 -5.841  8.108]\n",
      " [-1.877  4.474  1.711  0.865 -0.794 -2.131 -5.026  1.248 -5.798  8.193]\n",
      " [-2.16   4.212  1.471  0.647 -0.991 -2.306 -5.179  1.117 -5.907  8.106]\n",
      " [-2.213  4.138  1.376  0.531 -1.128 -2.463 -5.358  0.917 -6.128  7.864]\n",
      " [-2.14   4.12   1.267  0.331 -1.419 -2.846 -5.831  0.353 -6.784  7.117]\n",
      " [-2.087  4.323  1.621  0.834 -0.765 -2.042 -4.877  1.457 -5.529  8.522]\n",
      " [-1.329  4.708  1.632  0.473 -1.5   -3.15  -6.359 -0.397 -7.757  5.921]\n",
      " [-3.851  3.196  1.131  0.982  0.02  -0.619 -2.818  4.154 -2.195 12.494]]\n"
     ]
    }
   ],
   "source": [
    "# perfil ao remover o outlier\n",
    "e_outlier = profil_residuel(x, y, 9)\n",
    "\n",
    "# perfis médios removendo os outros pontos\n",
    "E_others = [profil_residuel(x, y, i) for i in range(len(x)) if i != 9]\n",
    "e_mean = np.mean(E_others, axis=0)\n",
    "\n",
    "print(\"Perfil médio sem outlier (i ≠ 9):\")\n",
    "print(np.round(e_mean, 3))\n",
    "\n",
    "print(\"\\nPerfil ao remover i=9 (outlier):\")\n",
    "print(np.round(e_outlier, 3))\n"
   ]
  },
  {
   "cell_type": "markdown",
   "metadata": {},
   "source": [
    "#### <span style=\"color:blue\">REPONSE 4.2.c :</span> \n"
   ]
  },
  {
   "cell_type": "code",
   "execution_count": 19,
   "metadata": {},
   "outputs": [
    {
     "name": "stdout",
     "output_type": "stream",
     "text": [
      "Cook's distance D[0] = 0.083\n",
      "Cook's distance D[1] = 0.207\n",
      "Cook's distance D[2] = 0.016\n",
      "Cook's distance D[3] = 0.002\n",
      "Cook's distance D[4] = 0.003\n",
      "Cook's distance D[5] = 0.016\n",
      "Cook's distance D[6] = 0.108\n",
      "Cook's distance D[7] = 0.009\n",
      "Cook's distance D[8] = 0.374\n",
      "Cook's distance D[9] = 1.349\n"
     ]
    }
   ],
   "source": [
    "# Serve para detectar pontos influentes \n",
    "def cook(x, y, i):\n",
    "    x = np.asarray(x); y = np.asarray(y)\n",
    "    n = len(x); p = 2  # intercepto + slope\n",
    "    \n",
    "    # modelo completo\n",
    "    lr_full = LinearRegression().fit(x[:, None], y)\n",
    "    yhat_full = lr_full.predict(x[:, None])\n",
    "    e = y - yhat_full\n",
    "    mse = np.sum(e**2) / (n - p)\n",
    "    \n",
    "    # leverage do ponto i (regressão simples)\n",
    "    xbar = x.mean()\n",
    "    Sxx = np.sum((x - xbar)**2)\n",
    "    h_i = (1/n) + ((x[i] - xbar)**2)/Sxx\n",
    "    \n",
    "    # distância de Cook para ponto i\n",
    "    D_i = (e[i]**2 / (p * mse)) * (h_i / (1 - h_i)**2)\n",
    "    return D_i\n",
    "    # D_i pequeno -> ponto i não afeta muito a regressão\n",
    "    # D_i grande -> ponto i tem grande influência\n",
    "\n",
    "# Exemplo de uso:\n",
    "for i in range(len(x)):\n",
    "    print(f\"Cook's distance D[{i}] = {cook(x, y, i):.3f}\")"
   ]
  },
  {
   "cell_type": "markdown",
   "metadata": {},
   "source": [
    "## Question Bonus"
   ]
  },
  {
   "cell_type": "markdown",
   "metadata": {},
   "source": [
    "Pour un jeu de données de 20 observations obtenues avec un coefficient directeur $\\beta_1$ de $0.2$, faire un test d'hypothèse pour vérifier que les données sont corrélées avec une confiance de 95%. "
   ]
  },
  {
   "cell_type": "markdown",
   "metadata": {},
   "source": [
    "On rappelle que sous les hypothèses suivantes : \n",
    " * $\\mathbb{E}[\\epsilon_i] = 0$,\n",
    " * $\\mathbb{V}[\\epsilon_i] = \\sigma^2$,\n",
    " * $\\forall i \\neq j, \\: Cov(\\epsilon_i, \\epsilon_j) = 0$,\n",
    " \n",
    "on a : \n",
    "\n",
    "* $\\mathbb{E}[\\hat{\\beta_0}] = \\beta_0$,\n",
    "* $\\mathbb{E}[\\hat{\\beta_1}] = \\beta_1$,\n",
    "* $\\mathbb{V}[\\hat{\\beta_0}] = \\sigma^2(\\frac{1}{n} + \\frac{\\bar{x_n}^2}{\\sum_{i=1}^n (x_i - \\bar{x_n})^2})$,\n",
    "* $\\mathbb{V}[\\hat{\\beta_1}] = \\frac{\\sigma^2}{\\sum_{i=1}^n (x_i - \\bar{x_n})^2}$\n",
    "\n",
    "En faisant l'hypothèse supplémentaire que les erreurs suivent une loi normale, $\\epsilon_i \\sim \\mathcal{N}(0, \\sigma^2)$, on a :\n",
    "\n",
    "* $\\hat{\\beta_1} \\sim \\mathcal{N}(\\beta_1, \\frac{\\sigma^2}{\\sum_{i=1}^n (x_i - \\bar{x_n})^2})$,\n",
    "* $\\frac{(n-2) \\cdot s^2}{\\sigma^2} \\sim \\mathcal{X}^2(n-2)$,\n",
    "* $\\hat{\\beta_1}$ et $s^2$ indépendants,\n",
    "\n",
    "où $s^2 = \\frac{\\sum_{i=1}^n \\hat{\\epsilon_i}^2}{n-2}$ est un estimateur non biaisé de $\\sigma^2$.\n",
    "\n",
    "On peut en déduire que:\n",
    "\n",
    "$$ \\frac{ \\frac{ \\hat{\\beta_1}-\\beta_1}{\\sqrt{\\frac{\\sigma^2}{\\sum_{i=1}^n (x_i - \\bar{x_n})^2}}}}{\\sqrt{\\frac{\\frac{(n-2)s^2}{\\sigma^2}}{n-2}}} = \\frac{\\hat{\\beta_1}-\\beta_1}{\\frac{s}{\\sqrt{\\sum_{i=1}^n (x_i - \\bar{x_n})^2}}} = T_n \\sim T(n-2)$$ \n",
    "\n",
    "où $T(n-2)$ désigne la loi de Student à $n-2$ degrés de liberté, d'espérance nulle si $n-2 > 1$.\n",
    "\n",
    "Tester l'hypothèse H_0 : $\\beta_1 = 0$ en prenant un risque de 5%. "
   ]
  },
  {
   "cell_type": "code",
   "execution_count": null,
   "metadata": {},
   "outputs": [],
   "source": [
    "from scipy.stats import t\n",
    "\n",
    "\n",
    "..."
   ]
  },
  {
   "cell_type": "code",
   "execution_count": null,
   "metadata": {},
   "outputs": [],
   "source": []
  },
  {
   "cell_type": "code",
   "execution_count": null,
   "metadata": {},
   "outputs": [],
   "source": []
  },
  {
   "cell_type": "code",
   "execution_count": null,
   "metadata": {},
   "outputs": [],
   "source": []
  }
 ],
 "metadata": {
  "anaconda-cloud": {},
  "kernelspec": {
   "display_name": "base",
   "language": "python",
   "name": "python3"
  },
  "language_info": {
   "codemirror_mode": {
    "name": "ipython",
    "version": 3
   },
   "file_extension": ".py",
   "mimetype": "text/x-python",
   "name": "python",
   "nbconvert_exporter": "python",
   "pygments_lexer": "ipython3",
   "version": "3.10.16"
  }
 },
 "nbformat": 4,
 "nbformat_minor": 4
}
